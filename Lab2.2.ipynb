{
 "cells": [
  {
   "cell_type": "code",
   "execution_count": null,
   "id": "93c774f1",
   "metadata": {},
   "outputs": [],
   "source": [
    "pip install nltk"
   ]
  },
  {
   "cell_type": "code",
   "execution_count": null,
   "id": "42f001de",
   "metadata": {},
   "outputs": [],
   "source": [
    "import nltk\n",
    "from nltk.corpus import stopwords\n",
    "nltk.download('punkt')"
   ]
  },
  {
   "cell_type": "code",
   "execution_count": null,
   "id": "64dda330",
   "metadata": {},
   "outputs": [],
   "source": [
    "import nltk\n",
    "nltk.download('stopwords')"
   ]
  },
  {
   "cell_type": "code",
   "execution_count": null,
   "id": "a5917d22",
   "metadata": {},
   "outputs": [],
   "source": [
    "nltk_stop_word_list = stopwords.words('english')\n",
    "print(nltk_stop_word_list)\n",
    "print(len(nltk_stop_word_list))"
   ]
  },
  {
   "cell_type": "code",
   "execution_count": 13,
   "id": "49906f73",
   "metadata": {},
   "outputs": [
    {
     "name": "stdout",
     "output_type": "stream",
     "text": [
      "['Pythoners', 'are', 'very', 'intelligent', 'and', 'work', 'very', 'pythonly', 'and', 'now', 'they', 'are', 'pythoning', 'their', 'way', 'to', 'success', '.']\n"
     ]
    }
   ],
   "source": [
    "#Remove stop words in the given string using nltk library\n",
    "#before removing stop words, tokenize the sentence\n",
    "from nltk.tokenize import word_tokenize\n",
    "quote = \"Pythoners are very intelligent and work very pythonly and now they are pythoning their way to success.\"\n",
    "tokenized_words = word_tokenize(quote)\n",
    "print(tokenized_words)"
   ]
  },
  {
   "cell_type": "code",
   "execution_count": 15,
   "id": "ea8b08b3",
   "metadata": {},
   "outputs": [
    {
     "name": "stdout",
     "output_type": "stream",
     "text": [
      "['Pythoners', 'intelligent', 'work', 'pythonly', 'pythoning', 'way', 'success', '.']\n"
     ]
    }
   ],
   "source": [
    "new_list_without_stop_words =[]\n",
    "\n",
    "for tw in tokenized_words:\n",
    "    if tw not in nltk_stop_word_list:\n",
    "        new_list_without_stop_words.append(tw)\n",
    "print(new_list_without_stop_words)       "
   ]
  },
  {
   "cell_type": "code",
   "execution_count": null,
   "id": "b7ff98a4",
   "metadata": {},
   "outputs": [],
   "source": [
    "#Include ‘intelligent, ‘work’ as stopwords and print the new word list after removing stopwords\n",
    "new_stop_word_list =['intelligent','work']\n",
    "nltk_stop_word_list = stopwords.words('english')\n",
    "final_stop_word_list = nltk_stop_word_list + new_stop_word_list\n",
    "print(final_stop_word_list)\n",
    "print(len(final_stop_word_list))\n"
   ]
  },
  {
   "cell_type": "code",
   "execution_count": 18,
   "id": "1fe32856",
   "metadata": {},
   "outputs": [
    {
     "name": "stdout",
     "output_type": "stream",
     "text": [
      "['Pythoners', 'pythonly', 'pythoning', 'way', 'success', '.']\n"
     ]
    }
   ],
   "source": [
    "new_list_without_stop_words_2 =[]\n",
    "\n",
    "for tw in tokenized_words:\n",
    "    if tw not in final_stop_word_list:\n",
    "        new_list_without_stop_words_2.append(tw)\n",
    "print(new_list_without_stop_words_2) "
   ]
  },
  {
   "cell_type": "code",
   "execution_count": 21,
   "id": "fc9aa5f1",
   "metadata": {},
   "outputs": [
    {
     "name": "stdout",
     "output_type": "stream",
     "text": [
      "['python', 'are', 'veri', 'intellig', 'and', 'work', 'veri', 'pythonli', 'and', 'now', 'they', 'are', 'python', 'their', 'way', 'to', 'success', '.']\n"
     ]
    }
   ],
   "source": [
    "#stemming text processing \n",
    "#Porter's stemma algorithm\n",
    "from nltk.stem import PorterStemmer\n",
    "stemmed_word =[]\n",
    "stemmer = PorterStemmer()\n",
    "for i in tokenized_words:\n",
    "    stemmed_word.append(stemmer.stem(i))\n",
    "print(stemmed_word)"
   ]
  }
 ],
 "metadata": {
  "kernelspec": {
   "display_name": "Python 3 (ipykernel)",
   "language": "python",
   "name": "python3"
  },
  "language_info": {
   "codemirror_mode": {
    "name": "ipython",
    "version": 3
   },
   "file_extension": ".py",
   "mimetype": "text/x-python",
   "name": "python",
   "nbconvert_exporter": "python",
   "pygments_lexer": "ipython3",
   "version": "3.9.7"
  }
 },
 "nbformat": 4,
 "nbformat_minor": 5
}
