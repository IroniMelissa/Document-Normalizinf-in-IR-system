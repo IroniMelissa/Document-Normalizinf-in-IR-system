{
 "cells": [
  {
   "cell_type": "code",
   "execution_count": 39,
   "id": "39973f21",
   "metadata": {},
   "outputs": [
    {
     "name": "stdout",
     "output_type": "stream",
     "text": [
      "['Doc1.txt', 'Doc2.txt', 'Doc3.txt', 'Doc4.txt']\n"
     ]
    }
   ],
   "source": [
    "import os\n",
    "directory = os.getcwd()+'/inverted'\n",
    "#print(directory)\n",
    "files = os.listdir(directory)\n",
    "print(files)"
   ]
  },
  {
   "cell_type": "code",
   "execution_count": 9,
   "id": "1fb6bf9e",
   "metadata": {},
   "outputs": [],
   "source": [
    "def createInvertedIndex():\n",
    "    dictionary = dict()\n",
    "    #read text in txt files and split words into tokens\n",
    "    for file in files:\n",
    "        with open(os.getcwd()+'/inverted/'+file,'r') as f:\n",
    "            #print(f)\n",
    "             #split dataset\n",
    "            words = f.read().lower().split()\n",
    "           #print(words)\n",
    "            for word in words:\n",
    "                if word not in dictionary:\n",
    "                    dictionary[word]=[file]\n",
    "                else:\n",
    "                    dictionary[word].append(file)\n",
    "    return(dictionary)"
   ]
  },
  {
   "cell_type": "code",
   "execution_count": 10,
   "id": "31190614",
   "metadata": {},
   "outputs": [
    {
     "data": {
      "text/plain": [
       "{'breakthrough': ['Doc1.txt'],\n",
       " 'drug': ['Doc1.txt', 'Doc2.txt'],\n",
       " 'for': ['Doc1.txt', 'Doc3.txt', 'Doc4.txt'],\n",
       " 'schizophrenia': ['Doc1.txt', 'Doc2.txt', 'Doc3.txt', 'Doc4.txt'],\n",
       " 'new': ['Doc2.txt', 'Doc3.txt', 'Doc4.txt'],\n",
       " 'approach': ['Doc3.txt'],\n",
       " 'treatment': ['Doc3.txt'],\n",
       " 'of': ['Doc3.txt'],\n",
       " 'hopes': ['Doc4.txt'],\n",
       " 'patients': ['Doc4.txt']}"
      ]
     },
     "execution_count": 10,
     "metadata": {},
     "output_type": "execute_result"
    }
   ],
   "source": [
    "createInvertedIndex()"
   ]
  },
  {
   "cell_type": "code",
   "execution_count": 32,
   "id": "81327a6f",
   "metadata": {},
   "outputs": [
    {
     "name": "stdout",
     "output_type": "stream",
     "text": [
      "list2 ['Doc1.txt', 'Doc2.txt']\n",
      "list1 ['Doc1.txt', 'Doc2.txt', 'Doc3.txt', 'Doc4.txt']\n",
      "schizophrenia AND drug = {'Doc1.txt', 'Doc2.txt'}\n"
     ]
    }
   ],
   "source": [
    "#Write suitable code to do the following retrieval tasks.\n",
    "#define AND operator\n",
    "def intersectAndOperation(list1,list2):\n",
    "    if ((list1) and (list2)):\n",
    "        return set(list1).intersection(list2)\n",
    "    else:\n",
    "        return()\n",
    "\n",
    "#define OR operator\n",
    "def UnionOperator(list1,list2):\n",
    "    return set(list1).union(list2)\n",
    "\n",
    "#define NOT operator\n",
    "def Not_op(a):\n",
    "    directory=os.getcwd()+'/inverted'\n",
    "    fileli=os.listdir(directory)\n",
    "    return set(fileli).symmetric_difference(a)\n",
    "\n",
    "\n",
    "#schizophrenia AND drug   \n",
    "li = createInvertedIndex()\n",
    "for key in li:\n",
    "    if key == 'schizophrenia':\n",
    "        list1=li[key]\n",
    "        print('list1',list1)\n",
    "    if key =='drug':\n",
    "        list2=li[key]\n",
    "        print('list2',list2)\n",
    "print('schizophrenia AND drug =',intersectAndOperation(list1,list2))\n"
   ]
  },
  {
   "cell_type": "code",
   "execution_count": 35,
   "id": "51d2d74c",
   "metadata": {},
   "outputs": [
    {
     "name": "stdout",
     "output_type": "stream",
     "text": [
      "list1 ['Doc1.txt', 'Doc2.txt']\n",
      "list3 ['Doc1.txt', 'Doc3.txt', 'Doc4.txt']\n",
      "list2 ['Doc3.txt']\n",
      "list4 {'Doc1.txt', 'Doc3.txt', 'Doc2.txt'}\n",
      "list5 {'Doc4.txt'}\n",
      "list6 {'Doc4.txt'}\n"
     ]
    }
   ],
   "source": [
    "#for AND NOT(drug OR approach)\n",
    "li = createInvertedIndex()\n",
    "for key in li:\n",
    "    if key == 'drug':\n",
    "        list1=li[key]\n",
    "        print('list1',list1)\n",
    "    if key =='approach':\n",
    "        list2=li[key]\n",
    "        print('list2',list2)\n",
    "        list4 = UnionOperator(list1,list2)\n",
    "        print('list4',list4)\n",
    "    if key == 'for':\n",
    "        list3 =li[key]\n",
    "        print('list3',list3)\n",
    "\n",
    "list5 = Not_op(list4) \n",
    "list6 = intersectAndOperation(list5,list3)\n",
    "print('list5',list5)\n",
    "print('list6',list6)"
   ]
  },
  {
   "cell_type": "code",
   "execution_count": 38,
   "id": "1f3a5042",
   "metadata": {},
   "outputs": [
    {
     "name": "stdout",
     "output_type": "stream",
     "text": [
      "drug OR approach =  {'Doc1.txt', 'Doc3.txt', 'Doc2.txt'}\n",
      "NOT(drug OR approach)= {'Doc4.txt'}\n",
      "for AND NOT(drug OR approach)= {'Doc4.txt'}\n"
     ]
    }
   ],
   "source": [
    "print('drug OR approach = ',UnionOperator(list1,list2))\n",
    "print('NOT(drug OR approach)=',Not_op(list4))\n",
    "print('for AND NOT(drug OR approach)=',list6)"
   ]
  },
  {
   "cell_type": "code",
   "execution_count": null,
   "id": "00be5270",
   "metadata": {},
   "outputs": [],
   "source": []
  }
 ],
 "metadata": {
  "kernelspec": {
   "display_name": "Python 3 (ipykernel)",
   "language": "python",
   "name": "python3"
  },
  "language_info": {
   "codemirror_mode": {
    "name": "ipython",
    "version": 3
   },
   "file_extension": ".py",
   "mimetype": "text/x-python",
   "name": "python",
   "nbconvert_exporter": "python",
   "pygments_lexer": "ipython3",
   "version": "3.9.7"
  }
 },
 "nbformat": 4,
 "nbformat_minor": 5
}
